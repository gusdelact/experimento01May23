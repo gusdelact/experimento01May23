{
 "cells": [
  {
   "cell_type": "markdown",
   "metadata": {
    "id": "AKbJUkOrdk5L"
   },
   "source": [
    "# Experimento 1\n",
    "## Regresión"
   ]
  },
  {
   "cell_type": "markdown",
   "metadata": {
    "id": "G5bB23MTdk5M"
   },
   "source": [
    "La prueba de asentamiento del concreto mide la consistencia del concreto fresco antes de que fragüe. \n",
    "\n",
    "Se realiza para comprobar la trabajabilidad del hormigón recién hecho y, por tanto, la facilidad con la que fluye el hormigón. También se puede utilizar como indicador de un lote mal mezclado.\n",
    "\n",
    "\n",
    "Variables entrada (7)(componente kg por  M^3 concrete):\n",
    "* Cement\n",
    "* Slag\n",
    "* Fly ash\n",
    "* Water\n",
    "* SP\n",
    "* Coarse Aggr.\n",
    "* Fine Aggr.\n",
    "\n",
    "Variables salida (3):\n",
    "* SLUMP (cm)\n",
    "* FLOW (cm)\n",
    "* **28-day Compressive Strength (Mpa)**\n",
    "\n",
    "Data Source: https://archive.ics.uci.edu/ml/datasets/Concrete+Slump+Test\n",
    "\n",
    "*Credit: Yeh, I-Cheng, \"Modeling slump flow of concrete using second-order regressions and artificial neural networks,\" Cement and Concrete Composites, Vol.29, No. 6, 474-480, 2007.*"
   ]
  },
  {
   "cell_type": "code",
   "execution_count": 2,
   "metadata": {
    "id": "2dz6OUWHdk5M"
   },
   "outputs": [],
   "source": [
    "import numpy as np\n",
    "import pandas as pd\n",
    "import seaborn as sns\n",
    "import matplotlib.pyplot as plt\n",
    "from time import strftime, gmtime\n"
   ]
  },
  {
   "cell_type": "code",
   "execution_count": 47,
   "metadata": {
    "tags": []
   },
   "outputs": [],
   "source": [
    "from sklearn.metrics import mean_absolute_error,mean_squared_error,r2_score"
   ]
  },
  {
   "cell_type": "code",
   "execution_count": 4,
   "metadata": {
    "tags": []
   },
   "outputs": [],
   "source": [
    "from sagemaker import experiments"
   ]
  },
  {
   "cell_type": "code",
   "execution_count": 5,
   "metadata": {
    "id": "J0fglyoSdk5N"
   },
   "outputs": [],
   "source": [
    "df = pd.read_csv('cement_slump.csv')"
   ]
  },
  {
   "cell_type": "code",
   "execution_count": 6,
   "metadata": {
    "colab": {
     "base_uri": "https://localhost:8080/",
     "height": 322
    },
    "id": "3D0msZW7dk5O",
    "outputId": "f38f043d-4086-4193-8d70-88d3d3b524a3"
   },
   "outputs": [
    {
     "data": {
      "text/html": [
       "<div>\n",
       "<style scoped>\n",
       "    .dataframe tbody tr th:only-of-type {\n",
       "        vertical-align: middle;\n",
       "    }\n",
       "\n",
       "    .dataframe tbody tr th {\n",
       "        vertical-align: top;\n",
       "    }\n",
       "\n",
       "    .dataframe thead th {\n",
       "        text-align: right;\n",
       "    }\n",
       "</style>\n",
       "<table border=\"1\" class=\"dataframe\">\n",
       "  <thead>\n",
       "    <tr style=\"text-align: right;\">\n",
       "      <th></th>\n",
       "      <th>Cement</th>\n",
       "      <th>Slag</th>\n",
       "      <th>Fly ash</th>\n",
       "      <th>Water</th>\n",
       "      <th>SP</th>\n",
       "      <th>Coarse Aggr.</th>\n",
       "      <th>Fine Aggr.</th>\n",
       "      <th>SLUMP(cm)</th>\n",
       "      <th>FLOW(cm)</th>\n",
       "      <th>Compressive Strength (28-day)(Mpa)</th>\n",
       "    </tr>\n",
       "  </thead>\n",
       "  <tbody>\n",
       "    <tr>\n",
       "      <th>0</th>\n",
       "      <td>273.0</td>\n",
       "      <td>82.0</td>\n",
       "      <td>105.0</td>\n",
       "      <td>210.0</td>\n",
       "      <td>9.0</td>\n",
       "      <td>904.0</td>\n",
       "      <td>680.0</td>\n",
       "      <td>23.0</td>\n",
       "      <td>62.0</td>\n",
       "      <td>34.99</td>\n",
       "    </tr>\n",
       "    <tr>\n",
       "      <th>1</th>\n",
       "      <td>163.0</td>\n",
       "      <td>149.0</td>\n",
       "      <td>191.0</td>\n",
       "      <td>180.0</td>\n",
       "      <td>12.0</td>\n",
       "      <td>843.0</td>\n",
       "      <td>746.0</td>\n",
       "      <td>0.0</td>\n",
       "      <td>20.0</td>\n",
       "      <td>41.14</td>\n",
       "    </tr>\n",
       "    <tr>\n",
       "      <th>2</th>\n",
       "      <td>162.0</td>\n",
       "      <td>148.0</td>\n",
       "      <td>191.0</td>\n",
       "      <td>179.0</td>\n",
       "      <td>16.0</td>\n",
       "      <td>840.0</td>\n",
       "      <td>743.0</td>\n",
       "      <td>1.0</td>\n",
       "      <td>20.0</td>\n",
       "      <td>41.81</td>\n",
       "    </tr>\n",
       "    <tr>\n",
       "      <th>3</th>\n",
       "      <td>162.0</td>\n",
       "      <td>148.0</td>\n",
       "      <td>190.0</td>\n",
       "      <td>179.0</td>\n",
       "      <td>19.0</td>\n",
       "      <td>838.0</td>\n",
       "      <td>741.0</td>\n",
       "      <td>3.0</td>\n",
       "      <td>21.5</td>\n",
       "      <td>42.08</td>\n",
       "    </tr>\n",
       "    <tr>\n",
       "      <th>4</th>\n",
       "      <td>154.0</td>\n",
       "      <td>112.0</td>\n",
       "      <td>144.0</td>\n",
       "      <td>220.0</td>\n",
       "      <td>10.0</td>\n",
       "      <td>923.0</td>\n",
       "      <td>658.0</td>\n",
       "      <td>20.0</td>\n",
       "      <td>64.0</td>\n",
       "      <td>26.82</td>\n",
       "    </tr>\n",
       "  </tbody>\n",
       "</table>\n",
       "</div>"
      ],
      "text/plain": [
       "   Cement   Slag  Fly ash  Water    SP  Coarse Aggr.  Fine Aggr.  SLUMP(cm)  \\\n",
       "0   273.0   82.0    105.0  210.0   9.0         904.0       680.0       23.0   \n",
       "1   163.0  149.0    191.0  180.0  12.0         843.0       746.0        0.0   \n",
       "2   162.0  148.0    191.0  179.0  16.0         840.0       743.0        1.0   \n",
       "3   162.0  148.0    190.0  179.0  19.0         838.0       741.0        3.0   \n",
       "4   154.0  112.0    144.0  220.0  10.0         923.0       658.0       20.0   \n",
       "\n",
       "   FLOW(cm)  Compressive Strength (28-day)(Mpa)  \n",
       "0      62.0                               34.99  \n",
       "1      20.0                               41.14  \n",
       "2      20.0                               41.81  \n",
       "3      21.5                               42.08  \n",
       "4      64.0                               26.82  "
      ]
     },
     "execution_count": 6,
     "metadata": {},
     "output_type": "execute_result"
    }
   ],
   "source": [
    "df.head()"
   ]
  },
  {
   "cell_type": "code",
   "execution_count": 7,
   "metadata": {
    "colab": {
     "base_uri": "https://localhost:8080/"
    },
    "id": "byFg_Xvhdk5O",
    "outputId": "d8032919-7e8d-47ab-f085-821946f0a112"
   },
   "outputs": [
    {
     "data": {
      "text/plain": [
       "Cement                                0.445656\n",
       "Slag                                 -0.331522\n",
       "Fly ash                               0.444380\n",
       "Water                                -0.254320\n",
       "SP                                   -0.037909\n",
       "Coarse Aggr.                         -0.160610\n",
       "Fine Aggr.                           -0.154532\n",
       "SLUMP(cm)                            -0.223499\n",
       "FLOW(cm)                             -0.124189\n",
       "Compressive Strength (28-day)(Mpa)    1.000000\n",
       "Name: Compressive Strength (28-day)(Mpa), dtype: float64"
      ]
     },
     "execution_count": 7,
     "metadata": {},
     "output_type": "execute_result"
    }
   ],
   "source": [
    "df.corr()['Compressive Strength (28-day)(Mpa)']"
   ]
  },
  {
   "cell_type": "code",
   "execution_count": 8,
   "metadata": {
    "colab": {
     "base_uri": "https://localhost:8080/",
     "height": 574
    },
    "id": "2gsQ7qdWdk5P",
    "outputId": "dd36e25c-5207-4fef-876b-380e88b716c2"
   },
   "outputs": [
    {
     "data": {
      "text/plain": [
       "<matplotlib.axes._subplots.AxesSubplot at 0x7fc59defa950>"
      ]
     },
     "execution_count": 8,
     "metadata": {},
     "output_type": "execute_result"
    }
   ],
   "source": [
    "sns.heatmap(df.corr(),cmap='viridis')"
   ]
  },
  {
   "cell_type": "code",
   "execution_count": 9,
   "metadata": {
    "colab": {
     "base_uri": "https://localhost:8080/"
    },
    "id": "bLz14WwDdk5P",
    "outputId": "19b540bf-ff90-4671-b62a-642fa7f79314"
   },
   "outputs": [
    {
     "data": {
      "text/plain": [
       "Index(['Cement', 'Slag', 'Fly ash', 'Water', 'SP', 'Coarse Aggr.',\n",
       "       'Fine Aggr.', 'SLUMP(cm)', 'FLOW(cm)',\n",
       "       'Compressive Strength (28-day)(Mpa)'],\n",
       "      dtype='object')"
      ]
     },
     "execution_count": 9,
     "metadata": {},
     "output_type": "execute_result"
    }
   ],
   "source": [
    "df.columns"
   ]
  },
  {
   "cell_type": "markdown",
   "metadata": {
    "id": "UgJMGH3vdk5P"
   },
   "source": [
    "## Train | Test Split\n",
    "\n",
    "Alternatively you could also set this up as a pipline, something like:\n",
    "\n",
    "    >>> from sklearn.pipeline import make_pipeline\n",
    "    >>> from sklearn.preprocessing import StandardScaler\n",
    "    >>> from sklearn.svm import SVR\n",
    "\n",
    "    >>> clf = make_pipeline(StandardScaler(), SVR())"
   ]
  },
  {
   "cell_type": "code",
   "execution_count": 10,
   "metadata": {
    "colab": {
     "base_uri": "https://localhost:8080/"
    },
    "id": "C12sTscCdk5Q",
    "outputId": "556e77f8-262a-4b6c-ac2a-49864448aee5"
   },
   "outputs": [
    {
     "data": {
      "text/plain": [
       "Index(['Cement', 'Slag', 'Fly ash', 'Water', 'SP', 'Coarse Aggr.',\n",
       "       'Fine Aggr.', 'SLUMP(cm)', 'FLOW(cm)',\n",
       "       'Compressive Strength (28-day)(Mpa)'],\n",
       "      dtype='object')"
      ]
     },
     "execution_count": 10,
     "metadata": {},
     "output_type": "execute_result"
    }
   ],
   "source": [
    "df.columns"
   ]
  },
  {
   "cell_type": "code",
   "execution_count": 11,
   "metadata": {
    "id": "LJzaiZOMdk5Q"
   },
   "outputs": [],
   "source": [
    "X = df.drop('Compressive Strength (28-day)(Mpa)',axis=1)\n",
    "y = df['Compressive Strength (28-day)(Mpa)']"
   ]
  },
  {
   "cell_type": "code",
   "execution_count": 12,
   "metadata": {
    "id": "xTsc6nBDdk5Q"
   },
   "outputs": [],
   "source": [
    "from sklearn.model_selection import train_test_split"
   ]
  },
  {
   "cell_type": "code",
   "execution_count": 13,
   "metadata": {
    "id": "6dUzd1H3dk5R"
   },
   "outputs": [],
   "source": [
    "X_train, X_test, y_train, y_test = train_test_split(X, y, test_size=0.3, random_state=101)"
   ]
  },
  {
   "cell_type": "code",
   "execution_count": 14,
   "metadata": {
    "id": "dqksaFQPdk5R"
   },
   "outputs": [],
   "source": [
    "from sklearn.preprocessing import StandardScaler"
   ]
  },
  {
   "cell_type": "code",
   "execution_count": 15,
   "metadata": {
    "id": "V7wevmrRdk5R"
   },
   "outputs": [],
   "source": [
    "scaler = StandardScaler()"
   ]
  },
  {
   "cell_type": "code",
   "execution_count": 16,
   "metadata": {
    "id": "f5gu4rYddk5R"
   },
   "outputs": [],
   "source": [
    "scaled_X_train = scaler.fit_transform(X_train)\n",
    "scaled_X_test = scaler.transform(X_test)"
   ]
  },
  {
   "cell_type": "code",
   "execution_count": 17,
   "metadata": {
    "tags": []
   },
   "outputs": [],
   "source": [
    "from sagemaker.utils import unique_name_from_base\n",
    "\n",
    "experiment_name = unique_name_from_base(\"Experimento01\")"
   ]
  },
  {
   "cell_type": "code",
   "execution_count": 18,
   "metadata": {
    "tags": []
   },
   "outputs": [
    {
     "data": {
      "text/plain": [
       "'Experimento01-1683102702-44ae'"
      ]
     },
     "execution_count": 18,
     "metadata": {},
     "output_type": "execute_result"
    }
   ],
   "source": [
    "experiment_name"
   ]
  },
  {
   "cell_type": "code",
   "execution_count": 19,
   "metadata": {
    "tags": []
   },
   "outputs": [],
   "source": [
    "run_name = \"Experimento01-run\""
   ]
  },
  {
   "cell_type": "markdown",
   "metadata": {
    "id": "B2iTT261iZ6H"
   },
   "source": [
    "## Linear Regression"
   ]
  },
  {
   "cell_type": "code",
   "execution_count": 20,
   "metadata": {
    "id": "OKPQX5ydioJu"
   },
   "outputs": [],
   "source": [
    "from sklearn import linear_model"
   ]
  },
  {
   "cell_type": "markdown",
   "metadata": {
    "id": "0lpE-YWNiw2s"
   },
   "source": [
    "### Entrenamiento"
   ]
  },
  {
   "cell_type": "code",
   "execution_count": 49,
   "metadata": {
    "tags": []
   },
   "outputs": [
    {
     "name": "stdout",
     "output_type": "stream",
     "text": [
      "[4.746863826765784, -1.5960356782690068, 4.272894632642386, -3.5100334188025766, -1.0783702630104201e-05, -3.979558080525755, -2.207670665641814, -1.774459611346505, 1.1652870265066777]\n"
     ]
    }
   ],
   "source": [
    "run_name = \"linear-regression-\" + strftime(\"%Y-%m-%d-%H-%M-%S\", gmtime())\n",
    "with experiments.Run(experiment_name,run_name=run_name) as run :\n",
    "     #entrenamiento\n",
    "     linear_regr = linear_model.LinearRegression()\n",
    "     linear_regr.fit(scaled_X_train,y_train)\n",
    "     print(linear_regr.coef_.tolist())\n",
    "     #verificacion con datos de train\n",
    "     llr_y_predict=linear_regr.predict(scaled_X_train)\n",
    "     llr_mae=mean_absolute_error(y_train,llr_y_predict)\n",
    "     llr_mse=np.sqrt(mean_squared_error(y_train,llr_y_predict))\n",
    "     llr_r2= r2_score(y_train,llr_y_predict)\n",
    "     run.log_metric(name=\"train:mae\",value=llr_mae)\n",
    "     run.log_metric(name=\"train:mse\",value=llr_mse) \n",
    "     run.log_metric(name=\"train:r2_score\",value=llr_r2) \n",
    "     #verificacion con datos de test\n",
    "     llr_y_predict=linear_regr.predict(scaled_X_test)\n",
    "     llr_mae=mean_absolute_error(y_test,llr_y_predict)\n",
    "     llr_mse=np.sqrt(mean_squared_error(y_test,llr_y_predict))\n",
    "     llr_r2= r2_score(y_test,llr_y_predict)\n",
    "     run.log_metric(name=\"test:mae\",value=llr_mae)\n",
    "     run.log_metric(name=\"test:mse\",value=llr_mse)\n",
    "     run.log_metric(name=\"train:r2_score\",value=llr_r2) \n",
    "    \n",
    "     "
   ]
  },
  {
   "cell_type": "markdown",
   "metadata": {
    "id": "5geZ37ulk75G"
   },
   "source": [
    "## Bayesian linear regression"
   ]
  },
  {
   "cell_type": "code",
   "execution_count": 22,
   "metadata": {
    "id": "RG62-dYjlAoN"
   },
   "outputs": [],
   "source": [
    "from sklearn import linear_model"
   ]
  },
  {
   "cell_type": "markdown",
   "metadata": {},
   "source": [
    "### Entrenamiento\n"
   ]
  },
  {
   "cell_type": "code",
   "execution_count": 23,
   "metadata": {
    "tags": []
   },
   "outputs": [
    {
     "name": "stdout",
     "output_type": "stream",
     "text": [
      "Convergence after  4  iterations\n"
     ]
    }
   ],
   "source": [
    "run_name = \"bayesian-linear-regression-\" + strftime(\"%Y-%m-%d-%H-%M-%S\", gmtime())\n",
    "with experiments.Run(experiment_name,run_name=run_name) as run :\n",
    "     #crea modelo\n",
    "     bayesian_reg = linear_model.BayesianRidge(verbose=True)\n",
    "     bayesian_params=bayesian_reg.get_params()\n",
    "     run.log_parameter('alpha_1',bayesian_params['alpha_1'] )\n",
    "     run.log_parameter('alpha_2',bayesian_params['alpha_2'] )   \n",
    "     run.log_parameter('lambda_1',bayesian_params['lambda_1'] )\n",
    "     run.log_parameter('lambda_2',bayesian_params['lambda_2'] ) \n",
    "     run.log_parameter('n_iter',bayesian_params['n_iter'] )    \n",
    "     #entrenar modelo\n",
    "     bayesian_reg.fit(scaled_X_train,y_train)   \n",
    "     #verificar entrenamiento con datos de train\n",
    "     bayesian_reg_y_predict=bayesian_reg.predict(scaled_X_train)\n",
    "     bayeasian_mae=mean_absolute_error(y_train,bayesian_reg_y_predict)\n",
    "     bayeasian_mse=np.sqrt(mean_squared_error(y_train,bayesian_reg_y_predict))\n",
    "     run.log_metric(name=\"train:mae\",value=bayeasian_mae)\n",
    "     run.log_metric(name=\"train:mse\",value=bayeasian_mse)   \n",
    "     #verificar entrenamiento con datos de test\n",
    "     bayesian_reg_y_predict=bayesian_reg.predict(scaled_X_test)\n",
    "     bayeasian_mae=mean_absolute_error(y_test,bayesian_reg_y_predict)\n",
    "     bayeasian_mse=np.sqrt(mean_squared_error(y_test,bayesian_reg_y_predict))\n",
    "     run.log_metric(name=\"test:mae\",value=bayeasian_mae)\n",
    "     run.log_metric(name=\"test:mse\",value=bayeasian_mse)"
   ]
  },
  {
   "cell_type": "markdown",
   "metadata": {
    "id": "rVKmasUFm1fX"
   },
   "source": [
    "### Grid Search"
   ]
  },
  {
   "cell_type": "code",
   "execution_count": 24,
   "metadata": {
    "id": "kariyM42m8VP"
   },
   "outputs": [],
   "source": [
    "from sklearn.model_selection import GridSearchCV"
   ]
  },
  {
   "cell_type": "code",
   "execution_count": 25,
   "metadata": {
    "id": "4q7-_sBEnIkO",
    "tags": []
   },
   "outputs": [
    {
     "name": "stdout",
     "output_type": "stream",
     "text": [
      "{'alpha_1': 0.001, 'alpha_2': 1e-09, 'lambda_1': 1e-09, 'lambda_2': 0.001, 'n_iter': 1, 'normalize': False}\n"
     ]
    }
   ],
   "source": [
    "run_name = \"grid-bayesian-linear-regression-\" + strftime(\"%Y-%m-%d-%H-%M-%S\", gmtime())\n",
    "with experiments.Run(experiment_name,run_name=run_name) as run :\n",
    "     bayesian_reg_param_grid= {\n",
    "       \"n_iter\" : [1,10,50,150,300,600],\n",
    "       \"alpha_1\" : [1e-3,1e-6,1e-9],\n",
    "       \"alpha_2\" : [1e-3,1e-6,1e-9],\n",
    "       \"lambda_1\" : [1e-3,1e-6,1e-9],\n",
    "       \"lambda_2\" : [1e-3,1e-6,1e-9],\n",
    "       \"normalize\" : [False,True]\n",
    "      }\n",
    "     bayesian_reg = linear_model.BayesianRidge()\n",
    "     bayesian_grid = GridSearchCV(bayesian_reg,param_grid=bayesian_reg_param_grid)\n",
    "     bayesian_grid.fit(scaled_X_train,y_train)\n",
    "     print(bayesian_grid.best_params_)\n",
    "     run.log_parameter(name=\"alpha_1\",value=bayesian_grid.best_params_['alpha_1'])   \n",
    "     run.log_parameter(name=\"alpha_2\",value=bayesian_grid.best_params_['alpha_2'])   \n",
    "     run.log_parameter(name=\"lambda_1\",value=bayesian_grid.best_params_['lambda_1'])     \n",
    "     run.log_parameter(name=\"lambda_2\",value=bayesian_grid.best_params_['lambda_2'])        \n",
    "     run.log_parameter(name=\"n_iter\",value=bayesian_grid.best_params_['n_iter'])     \n",
    "     \n",
    "     #evaluar con datos de train\n",
    "     bayesian_grid_preds = bayesian_grid.predict(scaled_X_train)\n",
    "     bayeasian_mae=mean_absolute_error(y_train,bayesian_grid_preds)\n",
    "     bayeasian_mse=np.sqrt(mean_squared_error(y_train,bayesian_grid_preds))\n",
    "     run.log_metric(name=\"train:mae\",value=bayeasian_mae)\n",
    "     run.log_metric(name=\"train:mse\",value=bayeasian_mse)\n",
    "     #evaluar con datos de test\n",
    "     bayesian_grid_preds = bayesian_grid.predict(scaled_X_test)\n",
    "     bayeasian_mae=mean_absolute_error(y_test,bayesian_grid_preds)\n",
    "     bayeasian_mse=np.sqrt(mean_squared_error(y_test,bayesian_grid_preds))\n",
    "     run.log_metric(name=\"test:mae\",value=bayeasian_mae)\n",
    "     run.log_metric(name=\"test:mse\",value=bayeasian_mse)\n",
    "    "
   ]
  },
  {
   "cell_type": "markdown",
   "metadata": {
    "id": "989nCCf7vQuD"
   },
   "source": [
    "## K-Nearest Neighbors\n"
   ]
  },
  {
   "cell_type": "code",
   "execution_count": 26,
   "metadata": {
    "id": "EKrwMO5FwG_m"
   },
   "outputs": [],
   "source": [
    "from sklearn import neighbors"
   ]
  },
  {
   "cell_type": "markdown",
   "metadata": {},
   "source": [
    "### Entrenamiento"
   ]
  },
  {
   "cell_type": "code",
   "execution_count": 27,
   "metadata": {
    "tags": []
   },
   "outputs": [
    {
     "name": "stdout",
     "output_type": "stream",
     "text": [
      "{'algorithm': 'auto', 'leaf_size': 30, 'metric': 'minkowski', 'metric_params': None, 'n_jobs': None, 'n_neighbors': 5, 'p': 2, 'weights': 'uniform'}\n"
     ]
    }
   ],
   "source": [
    "run_name = \"knn-regression-\" + strftime(\"%Y-%m-%d-%H-%M-%S\", gmtime())\n",
    "with experiments.Run(experiment_name,run_name=run_name) as run :\n",
    "     #entrenamiento\n",
    "     knn_regression = neighbors.KNeighborsRegressor()\n",
    "     knn_regression.fit(scaled_X_train, y_train)\n",
    "     print(knn_regression.get_params())\n",
    "     #verificacion con datos de train\n",
    "     knn_y_predict=knn_regression.predict(scaled_X_train)\n",
    "     knn_mae=mean_absolute_error(y_train,knn_y_predict)\n",
    "     knn_mse=np.sqrt(mean_squared_error(y_train,knn_y_predict))\n",
    "     run.log_metric(name=\"train:mae\",value=llr_mae)\n",
    "     run.log_metric(name=\"train:mse\",value=llr_mse) \n",
    "     #verificacion con datos de test\n",
    "     knn_y_predict=knn_regression.predict(scaled_X_test)\n",
    "     knn_mae=mean_absolute_error(y_test,knn_y_predict)\n",
    "     knn_mse=np.sqrt(mean_squared_error(y_test,knn_y_predict))\n",
    "     run.log_metric(name=\"test:mae\",value=llr_mae)\n",
    "     run.log_metric(name=\"test:mse\",value=llr_mse)"
   ]
  },
  {
   "cell_type": "markdown",
   "metadata": {},
   "source": [
    "### Grid Search"
   ]
  },
  {
   "cell_type": "code",
   "execution_count": 28,
   "metadata": {
    "tags": []
   },
   "outputs": [
    {
     "name": "stdout",
     "output_type": "stream",
     "text": [
      "{'algorithm': 'auto', 'metric': 'euclidean', 'n_neighbors': 2}\n"
     ]
    }
   ],
   "source": [
    "run_name = \"grid-knn-regression-\" + strftime(\"%Y-%m-%d-%H-%M-%S\", gmtime())\n",
    "with experiments.Run(experiment_name,run_name=run_name) as run :\n",
    "     knn_reg_param_grid= {\n",
    "       \"n_neighbors\" : [1,2,3,5,7,10,25,50],\n",
    "       \"algorithm\" : [\"auto\",\"ball_tree\",\"kd_tree\",\"brute\"],\n",
    "       \"metric\": ['euclidean','manhattan','l1','l2']\n",
    "      }\n",
    "\n",
    "     knn_grid = GridSearchCV(estimator=neighbors.KNeighborsRegressor(),param_grid=knn_reg_param_grid)\n",
    "     knn_grid.fit(scaled_X_train,y_train)\n",
    "     print(knn_grid.best_params_)\n",
    "     run.log_parameter(name=\"n_neighbors\",value=knn_grid.best_params_['n_neighbors'])\n",
    "     run.log_parameter(name=\"metric\",value=knn_grid.best_params_['metric'])\n",
    "     run.log_parameter(name=\"algorithm\",value=knn_grid.best_params_['algorithm'])     \n",
    "\n",
    "     #evaluar con datos de train\n",
    "     knn_grid_preds = knn_grid.predict(scaled_X_train)\n",
    "     knn_mae=mean_absolute_error(y_train,knn_grid_preds)\n",
    "     knn_mse=np.sqrt(mean_squared_error(y_train,knn_grid_preds))\n",
    "     run.log_metric(name=\"train:mae\",value=knn_mae)\n",
    "     run.log_metric(name=\"train:mse\",value=knn_mse)\n",
    "     #evaluar con datos de test\n",
    "     knn_grid_preds = knn_grid.predict(scaled_X_test)\n",
    "     knn_mse=mean_absolute_error(y_test,knn_grid_preds)\n",
    "     bayeasian_mse=np.sqrt(mean_squared_error(y_test,knn_grid_preds))\n",
    "     run.log_metric(name=\"test:mae\",value=knn_mae)\n",
    "     run.log_metric(name=\"test:mse\",value=knn_mse)"
   ]
  },
  {
   "cell_type": "markdown",
   "metadata": {
    "id": "A-EdGdrVp4sN"
   },
   "source": [
    "## Decision Tree"
   ]
  },
  {
   "cell_type": "code",
   "execution_count": 29,
   "metadata": {
    "id": "VYQZePQJp-ck"
   },
   "outputs": [],
   "source": [
    "from sklearn import tree"
   ]
  },
  {
   "cell_type": "markdown",
   "metadata": {},
   "source": [
    "### Entrenamiento"
   ]
  },
  {
   "cell_type": "code",
   "execution_count": 30,
   "metadata": {
    "tags": []
   },
   "outputs": [
    {
     "name": "stdout",
     "output_type": "stream",
     "text": [
      "{'ccp_alpha': 0.0, 'criterion': 'mse', 'max_depth': None, 'max_features': None, 'max_leaf_nodes': None, 'min_impurity_decrease': 0.0, 'min_impurity_split': None, 'min_samples_leaf': 1, 'min_samples_split': 2, 'min_weight_fraction_leaf': 0.0, 'presort': 'deprecated', 'random_state': None, 'splitter': 'best'}\n",
      "0.0\n",
      "0.0\n"
     ]
    }
   ],
   "source": [
    "run_name = \"tree-regression-\" + strftime(\"%Y-%m-%d-%H-%M-%S\", gmtime())\n",
    "with experiments.Run(experiment_name,run_name=run_name) as run :\n",
    "     #entrenamiento\n",
    "     decision_tree_reg = tree.DecisionTreeRegressor()\n",
    "     decision_tree_reg.fit(scaled_X_train, y_train)\n",
    "     print(decision_tree_reg.get_params())\n",
    "     #verificacion con datos de train\n",
    "     decision_tree_reg_y_pred=decision_tree_reg.predict(scaled_X_train)\n",
    "     tree_mae=mean_absolute_error(y_train,decision_tree_reg_y_pred)\n",
    "     tree_mse=np.sqrt(mean_squared_error(y_train,decision_tree_reg_y_pred))\n",
    "     print(tree_mae)\n",
    "     print(tree_mse)\n",
    "     run.log_metric(name=\"train:mae\",value=tree_mae)\n",
    "     run.log_metric(name=\"train:mse\",value=tree_mse) \n",
    "     #verificacion con datos de test\n",
    "     decision_tree_reg_y_pred=decision_tree_reg.predict(scaled_X_test)\n",
    "     tree_mae=mean_absolute_error(y_test,decision_tree_reg_y_pred)\n",
    "     tree_mse=np.sqrt(mean_squared_error(y_test,decision_tree_reg_y_pred))\n",
    "     run.log_metric(name=\"test:mae\",value=tree_mae)\n",
    "     run.log_metric(name=\"test:mse\",value=tree_mse)"
   ]
  },
  {
   "cell_type": "markdown",
   "metadata": {
    "id": "xmYzEgdkrxJJ"
   },
   "source": [
    "### Grid Search"
   ]
  },
  {
   "cell_type": "code",
   "execution_count": 31,
   "metadata": {
    "tags": []
   },
   "outputs": [
    {
     "name": "stdout",
     "output_type": "stream",
     "text": [
      "{'criterion': 'mse', 'max_features': 'auto'}\n"
     ]
    }
   ],
   "source": [
    "run_name = \"grid-tree-regression-\" + strftime(\"%Y-%m-%d-%H-%M-%S\", gmtime())\n",
    "with experiments.Run(experiment_name,run_name=run_name) as run :\n",
    "     decision_tree_reg_param_grid= {\n",
    "       \"max_features\" : [ \"auto\", \"sqrt\", \"log2\"],\n",
    "       \"criterion\" : [\"mse\", \"friedman_mse\"],\n",
    "      }\n",
    "\n",
    "     decision_tree_grid = GridSearchCV(estimator=tree.DecisionTreeRegressor(),param_grid=decision_tree_reg_param_grid)\n",
    "     decision_tree_grid.fit(scaled_X_train,y_train)\n",
    "     print(decision_tree_grid.best_params_)\n",
    "     run.log_parameter(name=\"max_features\",value=decision_tree_grid.best_params_['max_features'])\n",
    "     run.log_parameter(name=\"criterion\",value=decision_tree_grid.best_params_['criterion'])\n",
    "\n",
    "     #evaluar con datos de train\n",
    "     tree_grid_preds = decision_tree_grid.predict(scaled_X_train)\n",
    "     tree_mae=mean_absolute_error(y_train,tree_grid_preds)\n",
    "     tree_mse=np.sqrt(mean_squared_error(y_train,tree_grid_preds))\n",
    "     run.log_metric(name=\"train:mae\",value=tree_mae)\n",
    "     run.log_metric(name=\"train:mse\",value=tree_mse)\n",
    "     #evaluar con datos de test\n",
    "     tree_grid_preds = decision_tree_grid.predict(scaled_X_test)\n",
    "     tree_mae=mean_absolute_error(y_test,tree_grid_preds)\n",
    "     tree_mse=np.sqrt(mean_squared_error(y_test,tree_grid_preds))\n",
    "     run.log_metric(name=\"test:mae\",value=tree_mae)\n",
    "     run.log_metric(name=\"test:mse\",value=tree_mse)"
   ]
  },
  {
   "cell_type": "markdown",
   "metadata": {
    "id": "rLsW9Zv8iIC-"
   },
   "source": [
    "## Random Forest\n"
   ]
  },
  {
   "cell_type": "code",
   "execution_count": 32,
   "metadata": {
    "tags": []
   },
   "outputs": [],
   "source": [
    "from sklearn.ensemble import RandomForestRegressor"
   ]
  },
  {
   "cell_type": "markdown",
   "metadata": {},
   "source": [
    "### Entrenamiento"
   ]
  },
  {
   "cell_type": "code",
   "execution_count": 33,
   "metadata": {
    "tags": []
   },
   "outputs": [
    {
     "name": "stdout",
     "output_type": "stream",
     "text": [
      "{'bootstrap': True, 'ccp_alpha': 0.0, 'criterion': 'mse', 'max_depth': None, 'max_features': 'auto', 'max_leaf_nodes': None, 'max_samples': None, 'min_impurity_decrease': 0.0, 'min_impurity_split': None, 'min_samples_leaf': 1, 'min_samples_split': 2, 'min_weight_fraction_leaf': 0.0, 'n_estimators': 100, 'n_jobs': None, 'oob_score': False, 'random_state': None, 'verbose': 0, 'warm_start': False}\n"
     ]
    }
   ],
   "source": [
    "run_name = \"randomforest-regression-\" + strftime(\"%Y-%m-%d-%H-%M-%S\", gmtime())\n",
    "with experiments.Run(experiment_name,run_name=run_name) as run :\n",
    "     #entrenamiento\n",
    "     rforest_regression = RandomForestRegressor()\n",
    "     rforest_regression.fit(scaled_X_train, y_train)\n",
    "     print(rforest_regression.get_params())\n",
    "     #verificacion con datos de train\n",
    "     rforest_regression_y_pred=rforest_regression.predict(scaled_X_train)\n",
    "     rforest_mae=mean_absolute_error(y_train,rforest_regression_y_pred)\n",
    "     rforest_mse=np.sqrt(mean_squared_error(y_train,rforest_regression_y_pred))\n",
    "     run.log_metric(name=\"train:mae\",value=rforest_mae)\n",
    "     run.log_metric(name=\"train:mse\",value=rforest_mse) \n",
    "     #verificacion con datos de test\n",
    "     rforest_regression_y_pred=rforest_regression.predict(scaled_X_test)\n",
    "     rforest_mae=mean_absolute_error(y_test,rforest_regression_y_pred)\n",
    "     rforest_mse=np.sqrt(mean_squared_error(y_test,rforest_regression_y_pred))\n",
    "     run.log_metric(name=\"test:mae\",value=rforest_mae)\n",
    "     run.log_metric(name=\"test:mse\",value=rforest_mse)"
   ]
  },
  {
   "cell_type": "markdown",
   "metadata": {},
   "source": [
    "## XGBoost"
   ]
  },
  {
   "cell_type": "code",
   "execution_count": 34,
   "metadata": {
    "tags": []
   },
   "outputs": [
    {
     "name": "stdout",
     "output_type": "stream",
     "text": [
      "Requirement already satisfied: xgboost in /opt/conda/lib/python3.7/site-packages (1.6.2)\n",
      "Requirement already satisfied: numpy in /opt/conda/lib/python3.7/site-packages (from xgboost) (1.21.6)\n",
      "Requirement already satisfied: scipy in /opt/conda/lib/python3.7/site-packages (from xgboost) (1.4.1)\n",
      "\u001b[33mWARNING: Running pip as the 'root' user can result in broken permissions and conflicting behaviour with the system package manager. It is recommended to use a virtual environment instead: https://pip.pypa.io/warnings/venv\u001b[0m\u001b[33m\n",
      "\u001b[0m\n",
      "\u001b[1m[\u001b[0m\u001b[34;49mnotice\u001b[0m\u001b[1;39;49m]\u001b[0m\u001b[39;49m A new release of pip is available: \u001b[0m\u001b[31;49m23.0.1\u001b[0m\u001b[39;49m -> \u001b[0m\u001b[32;49m23.1.2\u001b[0m\n",
      "\u001b[1m[\u001b[0m\u001b[34;49mnotice\u001b[0m\u001b[1;39;49m]\u001b[0m\u001b[39;49m To update, run: \u001b[0m\u001b[32;49mpip install --upgrade pip\u001b[0m\n"
     ]
    }
   ],
   "source": [
    "!pip install xgboost"
   ]
  },
  {
   "cell_type": "code",
   "execution_count": 35,
   "metadata": {
    "tags": []
   },
   "outputs": [],
   "source": [
    "import xgboost as xgb"
   ]
  },
  {
   "cell_type": "markdown",
   "metadata": {},
   "source": [
    "## Entrenamiento"
   ]
  },
  {
   "cell_type": "code",
   "execution_count": 36,
   "metadata": {
    "tags": []
   },
   "outputs": [
    {
     "name": "stdout",
     "output_type": "stream",
     "text": [
      "{'objective': 'reg:squarederror', 'base_score': 0.5, 'booster': 'gbtree', 'callbacks': None, 'colsample_bylevel': 1, 'colsample_bynode': 1, 'colsample_bytree': 1, 'early_stopping_rounds': None, 'enable_categorical': False, 'eval_metric': None, 'gamma': 0, 'gpu_id': -1, 'grow_policy': 'depthwise', 'importance_type': None, 'interaction_constraints': '', 'learning_rate': 0.300000012, 'max_bin': 256, 'max_cat_to_onehot': 4, 'max_delta_step': 0, 'max_depth': 6, 'max_leaves': 0, 'min_child_weight': 1, 'missing': nan, 'monotone_constraints': '()', 'n_estimators': 100, 'n_jobs': 0, 'num_parallel_tree': 1, 'predictor': 'auto', 'random_state': 0, 'reg_alpha': 0, 'reg_lambda': 1, 'sampling_method': 'uniform', 'scale_pos_weight': 1, 'subsample': 1, 'tree_method': 'exact', 'validate_parameters': 1, 'verbosity': None}\n"
     ]
    }
   ],
   "source": [
    "run_name = \"xgboost-regression-\" + strftime(\"%Y-%m-%d-%H-%M-%S\", gmtime())\n",
    "with experiments.Run(experiment_name,run_name=run_name) as run :\n",
    "     #entrenamiento\n",
    "     xgb_regression = xgb.XGBRegressor()\n",
    "     xgb_regression.fit(scaled_X_train, y_train)\n",
    "     print(xgb_regression.get_params())\n",
    "     #verificacion con datos de train\n",
    "     xgb_regression_y_pred=xgb_regression.predict(scaled_X_train)\n",
    "     xgb_mae=mean_absolute_error(y_train,xgb_regression_y_pred)\n",
    "     xgb_mse=np.sqrt(mean_squared_error(y_train,xgb_regression_y_pred))\n",
    "     run.log_metric(name=\"train:mae\",value=xgb_mae)\n",
    "     run.log_metric(name=\"train:mse\",value=xgb_mse) \n",
    "     #verificacion con datos de test\n",
    "     xgb_regression_y_pred=xgb_regression.predict(scaled_X_test)\n",
    "     xgb_mae=mean_absolute_error(y_test,xgb_regression_y_pred)\n",
    "     xgb_mse=np.sqrt(mean_squared_error(y_test,rforest_regression_y_pred))\n",
    "     run.log_metric(name=\"test:mae\",value=xgb_mae)\n",
    "     run.log_metric(name=\"test:mse\",value=xgb_mse)"
   ]
  },
  {
   "cell_type": "markdown",
   "metadata": {
    "id": "rLsW9Zv8iIC-"
   },
   "source": [
    "## Linear Support Vector Machine\n"
   ]
  },
  {
   "cell_type": "code",
   "execution_count": 37,
   "metadata": {
    "tags": []
   },
   "outputs": [],
   "source": [
    "from sklearn.svm import LinearSVR"
   ]
  },
  {
   "cell_type": "markdown",
   "metadata": {},
   "source": [
    "### Entrenamiento"
   ]
  },
  {
   "cell_type": "code",
   "execution_count": 38,
   "metadata": {
    "tags": []
   },
   "outputs": [
    {
     "name": "stdout",
     "output_type": "stream",
     "text": [
      "{'C': 1.0, 'dual': True, 'epsilon': 0.0, 'fit_intercept': True, 'intercept_scaling': 1.0, 'loss': 'epsilon_insensitive', 'max_iter': 1000, 'random_state': None, 'tol': 0.0001, 'verbose': 0}\n"
     ]
    }
   ],
   "source": [
    "run_name = \"linearsvm-regression-\" + strftime(\"%Y-%m-%d-%H-%M-%S\", gmtime())\n",
    "with experiments.Run(experiment_name,run_name=run_name) as run :\n",
    "     #entrenamiento\n",
    "     svm_regression = LinearSVR()\n",
    "     svm_regression.fit(scaled_X_train, y_train)\n",
    "     print(svm_regression.get_params())\n",
    "     #verificacion con datos de train\n",
    "     svm_regression_y_pred=svm_regression.predict(scaled_X_train)\n",
    "     svm_mae=mean_absolute_error(y_train,svm_regression_y_pred)\n",
    "     svm_mse=np.sqrt(mean_squared_error(y_train,svm_regression_y_pred))\n",
    "     run.log_metric(name=\"train:mae\",value=svm_mae)\n",
    "     run.log_metric(name=\"train:mse\",value=svm_mse) \n",
    "     #verificacion con datos de test\n",
    "     svm_regression_y_pred=svm_regression.predict(scaled_X_test)\n",
    "     svm_mae=mean_absolute_error(y_test,svm_regression_y_pred)\n",
    "     svm_mse=np.sqrt(mean_squared_error(y_test,svm_regression_y_pred))\n",
    "     run.log_metric(name=\"test:mae\",value=svm_mae)\n",
    "     run.log_metric(name=\"test:mse\",value=svm_mse)"
   ]
  },
  {
   "cell_type": "code",
   "execution_count": 39,
   "metadata": {},
   "outputs": [],
   "source": [
    "### Grid Search"
   ]
  },
  {
   "cell_type": "code",
   "execution_count": 40,
   "metadata": {
    "tags": []
   },
   "outputs": [
    {
     "name": "stdout",
     "output_type": "stream",
     "text": [
      "{'C': 1, 'epsilon': 0.01}\n"
     ]
    }
   ],
   "source": [
    "run_name = \"grid-linearsvm-regression-\" + strftime(\"%Y-%m-%d-%H-%M-%S\", gmtime())\n",
    "with experiments.Run(experiment_name,run_name=run_name) as run :\n",
    "     svm_param_grid= {\n",
    "       'C':[0.001,0.01,0.1,0.5,1],\n",
    "       'epsilon':[0,0.01,0.1,0.5,1,2]  \n",
    "      }\n",
    "\n",
    "     svm_grid = GridSearchCV(estimator=LinearSVR(),param_grid=svm_param_grid)\n",
    "     svm_grid.fit(scaled_X_train,y_train)\n",
    "     print(svm_grid.best_params_)\n",
    "     run.log_parameter(name=\"C\",value=svm_grid.best_params_['C'])\n",
    "     run.log_parameter(name=\"epsilon\",value=svm_grid.best_params_['epsilon'])\n",
    "     #evaluar con datos de train\n",
    "     svm_grid_preds = svm_grid.predict(scaled_X_train)\n",
    "     svm_mae=mean_absolute_error(y_train,svm_grid_preds)\n",
    "     svm_mse=np.sqrt(mean_squared_error(y_train,svm_grid_preds))\n",
    "     run.log_metric(name=\"train:mae\",value=svm_mae)\n",
    "     run.log_metric(name=\"train:mse\",value=svm_mse)\n",
    "     #evaluar con datos de test\n",
    "     svm_grid_preds = svm_grid.predict(scaled_X_test)\n",
    "     svm_mae=mean_absolute_error(y_test,svm_grid_preds)\n",
    "     svm_mse=np.sqrt(mean_squared_error(y_test,svm_grid_preds))\n",
    "     run.log_metric(name=\"test:mae\",value=svm_mae)\n",
    "     run.log_metric(name=\"test:mse\",value=svm_mse)"
   ]
  },
  {
   "cell_type": "markdown",
   "metadata": {
    "id": "rLsW9Zv8iIC-"
   },
   "source": [
    "## Support Vector Machine\n"
   ]
  },
  {
   "cell_type": "code",
   "execution_count": 41,
   "metadata": {
    "id": "pUbXXbZ1dk5R"
   },
   "outputs": [],
   "source": [
    "from sklearn.svm import SVR"
   ]
  },
  {
   "cell_type": "markdown",
   "metadata": {
    "id": "gXvq9PwKis0E"
   },
   "source": [
    "### Entrenamiento"
   ]
  },
  {
   "cell_type": "code",
   "execution_count": 42,
   "metadata": {
    "tags": []
   },
   "outputs": [
    {
     "name": "stdout",
     "output_type": "stream",
     "text": [
      "{'C': 1.0, 'cache_size': 200, 'coef0': 0.0, 'degree': 3, 'epsilon': 0.1, 'gamma': 'scale', 'kernel': 'rbf', 'max_iter': -1, 'shrinking': True, 'tol': 0.001, 'verbose': False}\n"
     ]
    }
   ],
   "source": [
    "run_name = \"svm-regression-\" + strftime(\"%Y-%m-%d-%H-%M-%S\", gmtime())\n",
    "with experiments.Run(experiment_name,run_name=run_name) as run :\n",
    "     #entrenamiento\n",
    "     svm_regression = SVR()\n",
    "     svm_regression.fit(scaled_X_train, y_train)\n",
    "     print(svm_regression.get_params())\n",
    "     #verificacion con datos de train\n",
    "     svm_regression_y_pred=svm_regression.predict(scaled_X_train)\n",
    "     svm_mae=mean_absolute_error(y_train,svm_regression_y_pred)\n",
    "     svm_mse=np.sqrt(mean_squared_error(y_train,svm_regression_y_pred))\n",
    "     run.log_metric(name=\"train:mae\",value=svm_mae)\n",
    "     run.log_metric(name=\"train:mse\",value=svm_mse) \n",
    "     #verificacion con datos de test\n",
    "     svm_regression_y_pred=svm_regression.predict(scaled_X_test)\n",
    "     svm_mae=mean_absolute_error(y_test,svm_regression_y_pred)\n",
    "     svm_mse=np.sqrt(mean_squared_error(y_test,svm_regression_y_pred))\n",
    "     run.log_metric(name=\"test:mae\",value=svm_mae)\n",
    "     run.log_metric(name=\"test:mse\",value=svm_mse)"
   ]
  },
  {
   "cell_type": "markdown",
   "metadata": {
    "id": "uN_ggeoTdk5U"
   },
   "source": [
    "### Grid Search"
   ]
  },
  {
   "cell_type": "code",
   "execution_count": 43,
   "metadata": {
    "tags": []
   },
   "outputs": [
    {
     "name": "stdout",
     "output_type": "stream",
     "text": [
      "{'C': 1, 'degree': 2, 'epsilon': 2, 'gamma': 'scale', 'kernel': 'linear'}\n"
     ]
    }
   ],
   "source": [
    "run_name = \"grid-svm-regression-\" + strftime(\"%Y-%m-%d-%H-%M-%S\", gmtime())\n",
    "with experiments.Run(experiment_name,run_name=run_name) as run :\n",
    "     svm_param_grid= {\n",
    "       'C':[0.001,0.01,0.1,0.5,1],\n",
    "       'kernel':['linear','rbf','poly'],  \n",
    "       'gamma':['scale','auto'],\n",
    "       'degree':[2,3,4],  \n",
    "       'epsilon':[0,0.01,0.1,0.5,1,2]  \n",
    "      }\n",
    "\n",
    "     svm_grid = GridSearchCV(estimator=SVR(),param_grid=svm_param_grid)\n",
    "     svm_grid.fit(scaled_X_train,y_train)\n",
    "     print(svm_grid.best_params_)\n",
    "     run.log_parameter(name=\"C\",value=svm_grid.best_params_['C'])\n",
    "     run.log_parameter(name=\"kernel\",value=svm_grid.best_params_['kernel'])\n",
    "     run.log_parameter(name=\"gamma\",value=svm_grid.best_params_['gamma'])\n",
    "     run.log_parameter(name=\"degree\",value=svm_grid.best_params_['degree'])\n",
    "     run.log_parameter(name=\"epsilon\",value=svm_grid.best_params_['epsilon'])\n",
    "     #evaluar con datos de train\n",
    "     svm_grid_preds = svm_grid.predict(scaled_X_train)\n",
    "     svm_mae=mean_absolute_error(y_train,svm_grid_preds)\n",
    "     svm_mse=np.sqrt(mean_squared_error(y_train,svm_grid_preds))\n",
    "     run.log_metric(name=\"train:mae\",value=svm_mae)\n",
    "     run.log_metric(name=\"train:mse\",value=svm_mse)\n",
    "     #evaluar con datos de test\n",
    "     svm_grid_preds = svm_grid.predict(scaled_X_test)\n",
    "     svm_mae=mean_absolute_error(y_test,svm_grid_preds)\n",
    "     svm_mse=np.sqrt(mean_squared_error(y_test,svm_grid_preds))\n",
    "     run.log_metric(name=\"test:mae\",value=svm_mae)\n",
    "     run.log_metric(name=\"test:mse\",value=svm_mse)"
   ]
  },
  {
   "cell_type": "markdown",
   "metadata": {
    "id": "9chucco40j1n"
   },
   "source": [
    "## Artificial Neural Network"
   ]
  },
  {
   "cell_type": "code",
   "execution_count": 44,
   "metadata": {
    "id": "lWRU1oAg0lRB"
   },
   "outputs": [],
   "source": [
    "from sklearn import neural_network"
   ]
  },
  {
   "cell_type": "markdown",
   "metadata": {
    "id": "rjNCBqqb0-yI"
   },
   "source": [
    "### Entrenamiento"
   ]
  },
  {
   "cell_type": "code",
   "execution_count": 45,
   "metadata": {
    "tags": []
   },
   "outputs": [
    {
     "name": "stdout",
     "output_type": "stream",
     "text": [
      "{'activation': 'relu', 'alpha': 0.0001, 'batch_size': 'auto', 'beta_1': 0.9, 'beta_2': 0.999, 'early_stopping': False, 'epsilon': 1e-08, 'hidden_layer_sizes': (100,), 'learning_rate': 'constant', 'learning_rate_init': 0.001, 'max_fun': 15000, 'max_iter': 5000, 'momentum': 0.9, 'n_iter_no_change': 10, 'nesterovs_momentum': True, 'power_t': 0.5, 'random_state': None, 'shuffle': True, 'solver': 'adam', 'tol': 0.0001, 'validation_fraction': 0.1, 'verbose': False, 'warm_start': False}\n"
     ]
    }
   ],
   "source": [
    "run_name = \"ann-regression-\" + strftime(\"%Y-%m-%d-%H-%M-%S\", gmtime())\n",
    "with experiments.Run(experiment_name,run_name=run_name) as run :\n",
    "     #entrenamiento\n",
    "     ann_regression = neural_network.MLPRegressor(max_iter=5000,verbose=False)\n",
    "     ann_regression.fit(scaled_X_train, y_train)\n",
    "     print(ann_regression.get_params())\n",
    "     #verificacion con datos de train\n",
    "     ann_regression_y_pred=ann_regression.predict(scaled_X_train)\n",
    "     ann_mae=mean_absolute_error(y_train,ann_regression_y_pred)\n",
    "     ann_mse=np.sqrt(mean_squared_error(y_train,ann_regression_y_pred))\n",
    "     run.log_metric(name=\"train:mae\",value=ann_mae)\n",
    "     run.log_metric(name=\"train:mse\",value=ann_mse) \n",
    "     #verificacion con datos de test\n",
    "     ann_regression_y_pred=ann_regression.predict(scaled_X_test)\n",
    "     ann_mae=mean_absolute_error(y_test,ann_regression_y_pred)\n",
    "     ann_mse=np.sqrt(mean_squared_error(y_test,ann_regression_y_pred))\n",
    "     run.log_metric(name=\"test:mae\",value=ann_mae)\n",
    "     run.log_metric(name=\"test:mse\",value=ann_mse)"
   ]
  }
 ],
 "metadata": {
  "anaconda-cloud": {},
  "availableInstances": [
   {
    "_defaultOrder": 0,
    "_isFastLaunch": true,
    "category": "General purpose",
    "gpuNum": 0,
    "hideHardwareSpecs": false,
    "memoryGiB": 4,
    "name": "ml.t3.medium",
    "vcpuNum": 2
   },
   {
    "_defaultOrder": 1,
    "_isFastLaunch": false,
    "category": "General purpose",
    "gpuNum": 0,
    "hideHardwareSpecs": false,
    "memoryGiB": 8,
    "name": "ml.t3.large",
    "vcpuNum": 2
   },
   {
    "_defaultOrder": 2,
    "_isFastLaunch": false,
    "category": "General purpose",
    "gpuNum": 0,
    "hideHardwareSpecs": false,
    "memoryGiB": 16,
    "name": "ml.t3.xlarge",
    "vcpuNum": 4
   },
   {
    "_defaultOrder": 3,
    "_isFastLaunch": false,
    "category": "General purpose",
    "gpuNum": 0,
    "hideHardwareSpecs": false,
    "memoryGiB": 32,
    "name": "ml.t3.2xlarge",
    "vcpuNum": 8
   },
   {
    "_defaultOrder": 4,
    "_isFastLaunch": true,
    "category": "General purpose",
    "gpuNum": 0,
    "hideHardwareSpecs": false,
    "memoryGiB": 8,
    "name": "ml.m5.large",
    "vcpuNum": 2
   },
   {
    "_defaultOrder": 5,
    "_isFastLaunch": false,
    "category": "General purpose",
    "gpuNum": 0,
    "hideHardwareSpecs": false,
    "memoryGiB": 16,
    "name": "ml.m5.xlarge",
    "vcpuNum": 4
   },
   {
    "_defaultOrder": 6,
    "_isFastLaunch": false,
    "category": "General purpose",
    "gpuNum": 0,
    "hideHardwareSpecs": false,
    "memoryGiB": 32,
    "name": "ml.m5.2xlarge",
    "vcpuNum": 8
   },
   {
    "_defaultOrder": 7,
    "_isFastLaunch": false,
    "category": "General purpose",
    "gpuNum": 0,
    "hideHardwareSpecs": false,
    "memoryGiB": 64,
    "name": "ml.m5.4xlarge",
    "vcpuNum": 16
   },
   {
    "_defaultOrder": 8,
    "_isFastLaunch": false,
    "category": "General purpose",
    "gpuNum": 0,
    "hideHardwareSpecs": false,
    "memoryGiB": 128,
    "name": "ml.m5.8xlarge",
    "vcpuNum": 32
   },
   {
    "_defaultOrder": 9,
    "_isFastLaunch": false,
    "category": "General purpose",
    "gpuNum": 0,
    "hideHardwareSpecs": false,
    "memoryGiB": 192,
    "name": "ml.m5.12xlarge",
    "vcpuNum": 48
   },
   {
    "_defaultOrder": 10,
    "_isFastLaunch": false,
    "category": "General purpose",
    "gpuNum": 0,
    "hideHardwareSpecs": false,
    "memoryGiB": 256,
    "name": "ml.m5.16xlarge",
    "vcpuNum": 64
   },
   {
    "_defaultOrder": 11,
    "_isFastLaunch": false,
    "category": "General purpose",
    "gpuNum": 0,
    "hideHardwareSpecs": false,
    "memoryGiB": 384,
    "name": "ml.m5.24xlarge",
    "vcpuNum": 96
   },
   {
    "_defaultOrder": 12,
    "_isFastLaunch": false,
    "category": "General purpose",
    "gpuNum": 0,
    "hideHardwareSpecs": false,
    "memoryGiB": 8,
    "name": "ml.m5d.large",
    "vcpuNum": 2
   },
   {
    "_defaultOrder": 13,
    "_isFastLaunch": false,
    "category": "General purpose",
    "gpuNum": 0,
    "hideHardwareSpecs": false,
    "memoryGiB": 16,
    "name": "ml.m5d.xlarge",
    "vcpuNum": 4
   },
   {
    "_defaultOrder": 14,
    "_isFastLaunch": false,
    "category": "General purpose",
    "gpuNum": 0,
    "hideHardwareSpecs": false,
    "memoryGiB": 32,
    "name": "ml.m5d.2xlarge",
    "vcpuNum": 8
   },
   {
    "_defaultOrder": 15,
    "_isFastLaunch": false,
    "category": "General purpose",
    "gpuNum": 0,
    "hideHardwareSpecs": false,
    "memoryGiB": 64,
    "name": "ml.m5d.4xlarge",
    "vcpuNum": 16
   },
   {
    "_defaultOrder": 16,
    "_isFastLaunch": false,
    "category": "General purpose",
    "gpuNum": 0,
    "hideHardwareSpecs": false,
    "memoryGiB": 128,
    "name": "ml.m5d.8xlarge",
    "vcpuNum": 32
   },
   {
    "_defaultOrder": 17,
    "_isFastLaunch": false,
    "category": "General purpose",
    "gpuNum": 0,
    "hideHardwareSpecs": false,
    "memoryGiB": 192,
    "name": "ml.m5d.12xlarge",
    "vcpuNum": 48
   },
   {
    "_defaultOrder": 18,
    "_isFastLaunch": false,
    "category": "General purpose",
    "gpuNum": 0,
    "hideHardwareSpecs": false,
    "memoryGiB": 256,
    "name": "ml.m5d.16xlarge",
    "vcpuNum": 64
   },
   {
    "_defaultOrder": 19,
    "_isFastLaunch": false,
    "category": "General purpose",
    "gpuNum": 0,
    "hideHardwareSpecs": false,
    "memoryGiB": 384,
    "name": "ml.m5d.24xlarge",
    "vcpuNum": 96
   },
   {
    "_defaultOrder": 20,
    "_isFastLaunch": false,
    "category": "General purpose",
    "gpuNum": 0,
    "hideHardwareSpecs": true,
    "memoryGiB": 0,
    "name": "ml.geospatial.interactive",
    "supportedImageNames": [
     "sagemaker-geospatial-v1-0"
    ],
    "vcpuNum": 0
   },
   {
    "_defaultOrder": 21,
    "_isFastLaunch": true,
    "category": "Compute optimized",
    "gpuNum": 0,
    "hideHardwareSpecs": false,
    "memoryGiB": 4,
    "name": "ml.c5.large",
    "vcpuNum": 2
   },
   {
    "_defaultOrder": 22,
    "_isFastLaunch": false,
    "category": "Compute optimized",
    "gpuNum": 0,
    "hideHardwareSpecs": false,
    "memoryGiB": 8,
    "name": "ml.c5.xlarge",
    "vcpuNum": 4
   },
   {
    "_defaultOrder": 23,
    "_isFastLaunch": false,
    "category": "Compute optimized",
    "gpuNum": 0,
    "hideHardwareSpecs": false,
    "memoryGiB": 16,
    "name": "ml.c5.2xlarge",
    "vcpuNum": 8
   },
   {
    "_defaultOrder": 24,
    "_isFastLaunch": false,
    "category": "Compute optimized",
    "gpuNum": 0,
    "hideHardwareSpecs": false,
    "memoryGiB": 32,
    "name": "ml.c5.4xlarge",
    "vcpuNum": 16
   },
   {
    "_defaultOrder": 25,
    "_isFastLaunch": false,
    "category": "Compute optimized",
    "gpuNum": 0,
    "hideHardwareSpecs": false,
    "memoryGiB": 72,
    "name": "ml.c5.9xlarge",
    "vcpuNum": 36
   },
   {
    "_defaultOrder": 26,
    "_isFastLaunch": false,
    "category": "Compute optimized",
    "gpuNum": 0,
    "hideHardwareSpecs": false,
    "memoryGiB": 96,
    "name": "ml.c5.12xlarge",
    "vcpuNum": 48
   },
   {
    "_defaultOrder": 27,
    "_isFastLaunch": false,
    "category": "Compute optimized",
    "gpuNum": 0,
    "hideHardwareSpecs": false,
    "memoryGiB": 144,
    "name": "ml.c5.18xlarge",
    "vcpuNum": 72
   },
   {
    "_defaultOrder": 28,
    "_isFastLaunch": false,
    "category": "Compute optimized",
    "gpuNum": 0,
    "hideHardwareSpecs": false,
    "memoryGiB": 192,
    "name": "ml.c5.24xlarge",
    "vcpuNum": 96
   },
   {
    "_defaultOrder": 29,
    "_isFastLaunch": true,
    "category": "Accelerated computing",
    "gpuNum": 1,
    "hideHardwareSpecs": false,
    "memoryGiB": 16,
    "name": "ml.g4dn.xlarge",
    "vcpuNum": 4
   },
   {
    "_defaultOrder": 30,
    "_isFastLaunch": false,
    "category": "Accelerated computing",
    "gpuNum": 1,
    "hideHardwareSpecs": false,
    "memoryGiB": 32,
    "name": "ml.g4dn.2xlarge",
    "vcpuNum": 8
   },
   {
    "_defaultOrder": 31,
    "_isFastLaunch": false,
    "category": "Accelerated computing",
    "gpuNum": 1,
    "hideHardwareSpecs": false,
    "memoryGiB": 64,
    "name": "ml.g4dn.4xlarge",
    "vcpuNum": 16
   },
   {
    "_defaultOrder": 32,
    "_isFastLaunch": false,
    "category": "Accelerated computing",
    "gpuNum": 1,
    "hideHardwareSpecs": false,
    "memoryGiB": 128,
    "name": "ml.g4dn.8xlarge",
    "vcpuNum": 32
   },
   {
    "_defaultOrder": 33,
    "_isFastLaunch": false,
    "category": "Accelerated computing",
    "gpuNum": 4,
    "hideHardwareSpecs": false,
    "memoryGiB": 192,
    "name": "ml.g4dn.12xlarge",
    "vcpuNum": 48
   },
   {
    "_defaultOrder": 34,
    "_isFastLaunch": false,
    "category": "Accelerated computing",
    "gpuNum": 1,
    "hideHardwareSpecs": false,
    "memoryGiB": 256,
    "name": "ml.g4dn.16xlarge",
    "vcpuNum": 64
   },
   {
    "_defaultOrder": 35,
    "_isFastLaunch": false,
    "category": "Accelerated computing",
    "gpuNum": 1,
    "hideHardwareSpecs": false,
    "memoryGiB": 61,
    "name": "ml.p3.2xlarge",
    "vcpuNum": 8
   },
   {
    "_defaultOrder": 36,
    "_isFastLaunch": false,
    "category": "Accelerated computing",
    "gpuNum": 4,
    "hideHardwareSpecs": false,
    "memoryGiB": 244,
    "name": "ml.p3.8xlarge",
    "vcpuNum": 32
   },
   {
    "_defaultOrder": 37,
    "_isFastLaunch": false,
    "category": "Accelerated computing",
    "gpuNum": 8,
    "hideHardwareSpecs": false,
    "memoryGiB": 488,
    "name": "ml.p3.16xlarge",
    "vcpuNum": 64
   },
   {
    "_defaultOrder": 38,
    "_isFastLaunch": false,
    "category": "Accelerated computing",
    "gpuNum": 8,
    "hideHardwareSpecs": false,
    "memoryGiB": 768,
    "name": "ml.p3dn.24xlarge",
    "vcpuNum": 96
   },
   {
    "_defaultOrder": 39,
    "_isFastLaunch": false,
    "category": "Memory Optimized",
    "gpuNum": 0,
    "hideHardwareSpecs": false,
    "memoryGiB": 16,
    "name": "ml.r5.large",
    "vcpuNum": 2
   },
   {
    "_defaultOrder": 40,
    "_isFastLaunch": false,
    "category": "Memory Optimized",
    "gpuNum": 0,
    "hideHardwareSpecs": false,
    "memoryGiB": 32,
    "name": "ml.r5.xlarge",
    "vcpuNum": 4
   },
   {
    "_defaultOrder": 41,
    "_isFastLaunch": false,
    "category": "Memory Optimized",
    "gpuNum": 0,
    "hideHardwareSpecs": false,
    "memoryGiB": 64,
    "name": "ml.r5.2xlarge",
    "vcpuNum": 8
   },
   {
    "_defaultOrder": 42,
    "_isFastLaunch": false,
    "category": "Memory Optimized",
    "gpuNum": 0,
    "hideHardwareSpecs": false,
    "memoryGiB": 128,
    "name": "ml.r5.4xlarge",
    "vcpuNum": 16
   },
   {
    "_defaultOrder": 43,
    "_isFastLaunch": false,
    "category": "Memory Optimized",
    "gpuNum": 0,
    "hideHardwareSpecs": false,
    "memoryGiB": 256,
    "name": "ml.r5.8xlarge",
    "vcpuNum": 32
   },
   {
    "_defaultOrder": 44,
    "_isFastLaunch": false,
    "category": "Memory Optimized",
    "gpuNum": 0,
    "hideHardwareSpecs": false,
    "memoryGiB": 384,
    "name": "ml.r5.12xlarge",
    "vcpuNum": 48
   },
   {
    "_defaultOrder": 45,
    "_isFastLaunch": false,
    "category": "Memory Optimized",
    "gpuNum": 0,
    "hideHardwareSpecs": false,
    "memoryGiB": 512,
    "name": "ml.r5.16xlarge",
    "vcpuNum": 64
   },
   {
    "_defaultOrder": 46,
    "_isFastLaunch": false,
    "category": "Memory Optimized",
    "gpuNum": 0,
    "hideHardwareSpecs": false,
    "memoryGiB": 768,
    "name": "ml.r5.24xlarge",
    "vcpuNum": 96
   },
   {
    "_defaultOrder": 47,
    "_isFastLaunch": false,
    "category": "Accelerated computing",
    "gpuNum": 1,
    "hideHardwareSpecs": false,
    "memoryGiB": 16,
    "name": "ml.g5.xlarge",
    "vcpuNum": 4
   },
   {
    "_defaultOrder": 48,
    "_isFastLaunch": false,
    "category": "Accelerated computing",
    "gpuNum": 1,
    "hideHardwareSpecs": false,
    "memoryGiB": 32,
    "name": "ml.g5.2xlarge",
    "vcpuNum": 8
   },
   {
    "_defaultOrder": 49,
    "_isFastLaunch": false,
    "category": "Accelerated computing",
    "gpuNum": 1,
    "hideHardwareSpecs": false,
    "memoryGiB": 64,
    "name": "ml.g5.4xlarge",
    "vcpuNum": 16
   },
   {
    "_defaultOrder": 50,
    "_isFastLaunch": false,
    "category": "Accelerated computing",
    "gpuNum": 1,
    "hideHardwareSpecs": false,
    "memoryGiB": 128,
    "name": "ml.g5.8xlarge",
    "vcpuNum": 32
   },
   {
    "_defaultOrder": 51,
    "_isFastLaunch": false,
    "category": "Accelerated computing",
    "gpuNum": 1,
    "hideHardwareSpecs": false,
    "memoryGiB": 256,
    "name": "ml.g5.16xlarge",
    "vcpuNum": 64
   },
   {
    "_defaultOrder": 52,
    "_isFastLaunch": false,
    "category": "Accelerated computing",
    "gpuNum": 4,
    "hideHardwareSpecs": false,
    "memoryGiB": 192,
    "name": "ml.g5.12xlarge",
    "vcpuNum": 48
   },
   {
    "_defaultOrder": 53,
    "_isFastLaunch": false,
    "category": "Accelerated computing",
    "gpuNum": 4,
    "hideHardwareSpecs": false,
    "memoryGiB": 384,
    "name": "ml.g5.24xlarge",
    "vcpuNum": 96
   },
   {
    "_defaultOrder": 54,
    "_isFastLaunch": false,
    "category": "Accelerated computing",
    "gpuNum": 8,
    "hideHardwareSpecs": false,
    "memoryGiB": 768,
    "name": "ml.g5.48xlarge",
    "vcpuNum": 192
   }
  ],
  "colab": {
   "provenance": [],
   "toc_visible": true
  },
  "instance_type": "ml.t3.medium",
  "kernelspec": {
   "display_name": "Python 3 (Data Science)",
   "language": "python",
   "name": "python3__SAGEMAKER_INTERNAL__arn:aws:sagemaker:us-east-1:081325390199:image/datascience-1.0"
  },
  "language_info": {
   "codemirror_mode": {
    "name": "ipython",
    "version": 3
   },
   "file_extension": ".py",
   "mimetype": "text/x-python",
   "name": "python",
   "nbconvert_exporter": "python",
   "pygments_lexer": "ipython3",
   "version": "3.7.10"
  }
 },
 "nbformat": 4,
 "nbformat_minor": 4
}
